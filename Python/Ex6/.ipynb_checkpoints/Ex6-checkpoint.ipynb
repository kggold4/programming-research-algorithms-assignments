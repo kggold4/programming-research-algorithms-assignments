{
 "cells": [
  {
   "cell_type": "code",
   "execution_count": 3,
   "id": "dfec940a",
   "metadata": {},
   "outputs": [],
   "source": [
    "import numpy as np"
   ]
  },
  {
   "cell_type": "code",
   "execution_count": 16,
   "id": "09a2860b",
   "metadata": {},
   "outputs": [],
   "source": [
    "def plotIntersection(plot_range, f, g):\n",
    "    print(type(f))\n",
    "    print(f)\n",
    "    print(g)\n",
    "    "
   ]
  },
  {
   "cell_type": "code",
   "execution_count": 12,
   "id": "a33c6e03",
   "metadata": {},
   "outputs": [
    {
     "name": "stdout",
     "output_type": "stream",
     "text": [
      "<class 'function'>\n",
      "<function <lambda> at 0x0000026CC79E8AF0>\n",
      "<function <lambda> at 0x0000026CC79E83A0>\n"
     ]
    }
   ],
   "source": [
    "# example\n",
    "f = lambda x : x**2\n",
    "g = lambda x : x+10\n",
    "plotIntersection(np.linspace(-10, 10, 100), f, g)"
   ]
  },
  {
   "cell_type": "code",
   "execution_count": null,
   "id": "3246d5d7",
   "metadata": {},
   "outputs": [],
   "source": []
  }
 ],
 "metadata": {
  "kernelspec": {
   "display_name": "Python 3",
   "language": "python",
   "name": "python3"
  },
  "language_info": {
   "codemirror_mode": {
    "name": "ipython",
    "version": 3
   },
   "file_extension": ".py",
   "mimetype": "text/x-python",
   "name": "python",
   "nbconvert_exporter": "python",
   "pygments_lexer": "ipython3",
   "version": "3.8.8"
  }
 },
 "nbformat": 4,
 "nbformat_minor": 5
}
